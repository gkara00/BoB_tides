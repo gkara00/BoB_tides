{
 "cells": [
  {
   "cell_type": "code",
   "execution_count": 1,
   "metadata": {
    "Collapsed": "false"
   },
   "outputs": [],
   "source": [
    "from netCDF4 import Dataset\n",
    "from scipy.io import netcdf #### <--- This is the library to import.\n",
    "import xarray as xr\n",
    "import matplotlib\n",
    "import matplotlib.pyplot as plt\n",
    "from matplotlib.lines import Line2D\n",
    "import cmocean.cm as cmo\n",
    "import cmaps\n",
    "import numpy as np\n",
    "import cmocean\n",
    "\n",
    "import datetime \n",
    "import os\n",
    "\n",
    "%matplotlib inline\n",
    " \n",
    "from IPython.display import set_matplotlib_formats\n",
    "set_matplotlib_formats('png', 'pdf')\n",
    "\n",
    "plt.rcParams[\"font.size\"] = 12\n"
   ]
  },
  {
   "cell_type": "code",
   "execution_count": 2,
   "metadata": {
    "Collapsed": "false"
   },
   "outputs": [],
   "source": [
    "def read_netcdf_xr(fid):\n",
    "    ds = xr.open_mfdataset(fid, combine='by_coords')\n",
    "    return ds\n",
    "\n",
    "def plot_200_mask(axes, mask, bathy):\n",
    "    for ax in axes:\n",
    "        mask.plot.contour(ax=ax, x='nav_lon', y='nav_lat', linewidths=0.1, colors='k')\n",
    "        bathy.Bathymetry.plot.contour(ax=ax, x='nav_lon', y='nav_lat', levels=[200], linewidths=1.1, colors='k')\n",
    "    return"
   ]
  },
  {
   "cell_type": "code",
   "execution_count": null,
   "metadata": {
    "Collapsed": "false"
   },
   "outputs": [],
   "source": [
    "root_dir = '/home/gkara/Documents/for-tide_paper/'\n",
    "_f = ['BISCAY-T60_1h_CURL_20110928-20110928.nc', 'BISCAY-T60_1h_CURL_20120224-20120224.nc']\n",
    "#\n",
    "curl_ref = read_netcdf_xr([root_dir + 'CURL_ref/' + f for f in _f])\n",
    "curl_ref = curl_ref.set_coords(['nav_lon', 'nav_lat'])\n",
    "#\n",
    "curl_exp1 = read_netcdf_xr([root_dir + 'CURL_exp1/' + f for f in _f])\n",
    "curl_exp1 = curl_exp1.set_coords(['nav_lon', 'nav_lat'])\n",
    "#\n",
    "bathy = read_netcdf_xr(root_dir + 'bathy_meter.nc')\n",
    "bathy = bathy.set_coords(['nav_lon', 'nav_lat'])\n",
    "\n",
    "vmin = -.6e-04\n",
    "vmax = .6e-04\n",
    "levels = np.linspace(vmin,vmax,49, endpoint=True)\n",
    "\n",
    "# make plot\n",
    "fig, axes = plt.subplots(nrows=2, ncols=2, figsize=(12,10))\n",
    "fig.subplots_adjust(wspace=0.08, hspace=.14)\n",
    "#\n",
    "mask = np.isnan(curl_ref.socurl[0,:,:])\n",
    "im0 = curl_ref.sel(time_counter='2011-09-28T15:30:00.000000000').socurl.plot.contourf(ax=axes[0,0], x='nav_lon', y='nav_lat', levels=levels, vmin=vmin, vmax=vmax, cmap=cmocean.cm.balance, add_colorbar=False)\n",
    "im1 = curl_exp1.sel(time_counter='2011-09-28T15:30:00.000000000').socurl.plot.contourf(ax=axes[0,1], x='nav_lon', y='nav_lat', levels=levels, vmin=vmin, vmax=vmax, cmap=cmocean.cm.balance, add_colorbar=False)\n",
    "plot_200_mask(axes=[axes[0,0], axes[0,1]], mask=mask, bathy=bathy)\n",
    "#\n",
    "p0 = axes[0,0].get_position().get_points().flatten()\n",
    "p1 = axes[0,1].get_position().get_points().flatten()\n",
    "ax_cbar = fig.add_axes([p0[0]+.04, 0.035, p1[2]-p0[0]-.08, 0.025])\n",
    "cb = plt.colorbar(im0, cax=ax_cbar, orientation='horizontal', extend='both', label='Relative_Vorticity $\\zeta$')\n",
    "cb.set_ticks(np.arange(-.6e-04,1e-03,.1e-04))\n",
    "cb.formatter.set_powerlimits((0,0))\n",
    "cb.update_ticks()\n",
    "#\n",
    "im2 = curl_ref.sel(time_counter='2012-02-24T15:30:00.000000000').socurl.plot.contourf(ax=axes[1,0], x='nav_lon', y='nav_lat', levels=levels, vmin=vmin, vmax=vmax, cmap=cmocean.cm.balance, add_colorbar=False)\n",
    "im3 = curl_exp1.sel(time_counter='2012-02-24T15:30:00.000000000').socurl.plot.contourf(ax=axes[1,1], x='nav_lon', y='nav_lat', levels=levels, vmin=vmin, vmax=vmax, cmap=cmocean.cm.balance, add_colorbar=False)\n",
    "plot_200_mask(axes=[axes[1,0], axes[1,1]], mask=mask, bathy=bathy)\n",
    "#\n",
    "axes[0,0].set_xlabel(None); axes[0,1].set_xlabel(None)\n",
    "axes[0,0].set_xticklabels([]); axes[0,1].set_xticklabels([])\n",
    "axes[0,1].set_ylabel(None); axes[1,1].set_ylabel(None)\n",
    "axes[0,1].set_yticklabels([]); axes[1,1].set_yticklabels([])\n",
    "#\n",
    "axes[0,0].set_title(\"(a) TON: 2011-09-28\"); axes[0,1].set_title(\"(b) TOFF: 2011-09-28\")\n",
    "axes[1,0].set_title(\"(c) TON: 2012-02-24\"); axes[1,1].set_title(\"(d) TOFF: 2012-02-24\")\n",
    "\n",
    "#save figure\n",
    "fig.savefig(root_dir + '_plots/fig_vorticity.png',dpi=300,bbox_inches='tight')"
   ]
  },
  {
   "cell_type": "markdown",
   "metadata": {
    "Collapsed": "false"
   },
   "source": [
    "## Animations"
   ]
  },
  {
   "cell_type": "code",
   "execution_count": null,
   "metadata": {
    "Collapsed": "false"
   },
   "outputs": [],
   "source": [
    "root_dir = '/home/gkara/Documents/for-tide_paper/'\n",
    "curl_ref = read_netcdf_xr(root_dir + 'CURL_ref/BISCAY-T60_1h_CURL*')\n",
    "curl_ref = curl_ref.set_coords(['nav_lon', 'nav_lat'])\n",
    "#\n",
    "curl_exp1 = read_netcdf_xr(root_dir + 'CURL_exp1/BISCAY-T60_1h_CURL*')\n",
    "curl_exp1 = curl_exp1.set_coords(['nav_lon', 'nav_lat'])\n",
    "\n",
    "vmin = -.5e-04\n",
    "vmax = .5e-04\n",
    "levels = np.linspace(vmin,vmax,41, endpoint=True)\n",
    "\n",
    "for n in range(1):\n",
    "    print('***' + str(n) + '***')\n",
    "    fig, axes = plt.subplots(nrows=1, ncols=2, figsize=(13.5,6))\n",
    "    fig.subplots_adjust(wspace=0.08)\n",
    "\n",
    "    im0 = curl_ref.socurl[n,::].plot.contourf(ax=axes[0], x='nav_lon', y='nav_lat', levels=levels, vmin=vmin, vmax=vmax, cmap=cmocean.cm.balance, add_colorbar=False)\n",
    "    im1 = curl_exp1.socurl[n,::].plot.contourf(ax=axes[1], x='nav_lon', y='nav_lat', levels=levels, vmin=vmin, vmax=vmax, cmap=cmocean.cm.balance, add_colorbar=False)\n",
    "    mask = np.isnan(curl_ref.socurl[n,:,:])\n",
    "    mask.plot.contour(ax=axes[0], x='nav_lon', y='nav_lat', linewidths=0.2,colors='black')\n",
    "    mask.plot.contour(ax=axes[1], x='nav_lon', y='nav_lat', linewidths=0.2,colors='black')\n",
    "\n",
    "    axes[1].yaxis.tick_right()\n",
    "    axes[0].yaxis.set_ticks_position('both')\n",
    "    axes[1].yaxis.set_ticks_position('both')\n",
    "    axes[1].set_ylabel(None)\n",
    "\n",
    "    p0 = axes[0].get_position().get_points().flatten()\n",
    "    p1 = axes[1].get_position().get_points().flatten()\n",
    "    ax_cbar = fig.add_axes([p0[0]+.04, 0, p1[2]-p0[0]-.08, 0.025])\n",
    "    cb = plt.colorbar(im0, cax=ax_cbar, orientation='horizontal', extend='both', label='Relative_Vorticity $\\zeta$')\n",
    "    cb.set_ticks(np.arange(-.5e-04,1e-03,.1e-04))\n",
    "    cb.formatter.set_powerlimits((0,0))\n",
    "    cb.update_ticks()\n",
    "    \n",
    "    #save figure\n",
    "#     fig.savefig(root_dir + '_plots/curl%04d.png'%n,dpi=300,bbox_inches='tight')\n",
    "#     plt.close()"
   ]
  }
 ],
 "metadata": {
  "kernelspec": {
   "display_name": "dell",
   "language": "python",
   "name": "dell"
  },
  "language_info": {
   "codemirror_mode": {
    "name": "ipython",
    "version": 3
   },
   "file_extension": ".py",
   "mimetype": "text/x-python",
   "name": "python",
   "nbconvert_exporter": "python",
   "pygments_lexer": "ipython3",
   "version": "3.7.3"
  }
 },
 "nbformat": 4,
 "nbformat_minor": 4
}
